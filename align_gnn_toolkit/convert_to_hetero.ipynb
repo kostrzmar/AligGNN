{
 "cells": [
  {
   "cell_type": "code",
   "execution_count": null,
   "metadata": {},
   "outputs": [],
   "source": [
    "import os\n",
    "#sys.path.append('./align_gnn_toolkit')\n",
    "os.chdir('./align_gnn_toolkit')\n",
    "import argparse\n",
    "import warnings\n",
    "from engine import EngineFactory\n",
    "from data_set.data_set_factory import DataSetFactory\n",
    "from utils import config_const\n",
    "print(f'Working directory: {os.getcwd()}')\n",
    "\n",
    "EXPERIMENT_TEMPLATE = 'align_gnn_toolkit/experiments_repository/template_default.yaml'\n",
    "EXPERIMENT_CONFIG = 'align_gnn_toolkit/experiments_repository/sick_all_spd_hetero.yaml'\n",
    "\n",
    "parser = argparse.ArgumentParser()\n",
    "parser.add_argument('-temp', required=False, help='Path to the config file',nargs='?', const='1', type=str, default=EXPERIMENT_TEMPLATE)\n",
    "parser.add_argument('-conf', required=False, help='Nbr of experiment from config',nargs='?', const='1', type=str, default=EXPERIMENT_CONFIG)\n",
    "#args = parser.parse_args()\n",
    "args, unknown = parser.parse_known_args()\n",
    "config_utils = EngineFactory().getConfigurationUtils(args)\n",
    "config_utils.setValue(config_const.CONF_SEC_DATASET, config_const.CONF_DATASET_NAME, \"sick\")\n",
    "engine = EngineFactory().getEngineType(config_utils)\n",
    "params=engine.getProcessingParameters()\n",
    "data_holder = DataSetFactory.get_data_holder(params)  "
   ]
  },
  {
   "cell_type": "code",
   "execution_count": null,
   "metadata": {},
   "outputs": [
    {
     "name": "stderr",
     "output_type": "stream",
     "text": [
      "Some weights of the model checkpoint at roberta-base were not used when initializing RobertaModel: ['lm_head.decoder.weight', 'lm_head.dense.weight', 'lm_head.bias', 'lm_head.layer_norm.bias', 'lm_head.dense.bias', 'lm_head.layer_norm.weight']\n",
      "- This IS expected if you are initializing RobertaModel from the checkpoint of a model trained on another task or with another architecture (e.g. initializing a BertForSequenceClassification model from a BertForPreTraining model).\n",
      "- This IS NOT expected if you are initializing RobertaModel from the checkpoint of a model that you expect to be exactly identical (initializing a BertForSequenceClassification model from a BertForSequenceClassification model).\n"
     ]
    }
   ],
   "source": [
    "from torch_geometric.data import HeteroData\n",
    "from torch_geometric.utils import to_undirected\n",
    "import os\n",
    "import torch\n",
    "from graph_builder import GraphBuilderFactory\n",
    "graph_builder = GraphBuilderFactory.getBuilder(params=params)\n",
    "graph_builder.initialize(data_holder.train_data_set) \n",
    "builders = []\n",
    "\n",
    "for builder in graph_builder.builders:   \n",
    "    meta = {} \n",
    "    meta[\"name\"] = builder.builder_name\n",
    "    meta[\"node_feats_nbr\"] = builder.getNodeFeatsNbr()\n",
    "    meta[\"edge_feats_nbr\"] = builder.getEdgeFeatsNbr()\n",
    "    meta[\"offset_edge_feats\"] = builder.offset_edge_feats\n",
    "    meta[\"offset_node_feats\"] = builder.offset_node_feats\n",
    "    meta[\"total_edge_feature_number\"] = builder.total_edge_feature_number\n",
    "    meta[\"total_node_feature_number\"] = builder.total_node_feature_number\n",
    "    builders.append(meta)\n",
    "    \n",
    "\n",
    "    \n",
    "def to_hetero_graph(data, graph, builders_meta, prefix):\n",
    "    def add_prefix(name, prefix):\n",
    "        return prefix+\"_\"+name\n",
    "    for index, builder in enumerate(builders_meta):\n",
    "        data[\"y\"].y = graph.y\n",
    "        data[add_prefix(\"node_labels\", prefix)].node_labels = graph.node_labels\n",
    "        if builder[\"node_feats_nbr\"] >0:\n",
    "            data[add_prefix(builder[\"name\"], prefix)].x = graph.x[:, torch.arange(builder[\"offset_node_feats\"], builder[\"offset_node_feats\"]+builder[\"node_feats_nbr\"])]\n",
    "        if index > 0 and builder[\"edge_feats_nbr\"]==0:\n",
    "            new_trg_index = data[add_prefix(builder[\"name\"], prefix)].x.gt(0).nonzero(as_tuple=True)[0]\n",
    "            new_src_index = torch.arange(0, new_trg_index.shape[0])\n",
    "            new_edge_index = torch.stack([new_src_index, new_trg_index], dim=0).long()\n",
    "            new_edge_attr = torch.ones(new_trg_index.shape[0], 1)\n",
    "            data[add_prefix(builders_meta[0][\"name\"], prefix),  add_prefix(builder[\"name\"], prefix)].edge_attr = new_edge_attr \n",
    "            data[add_prefix(builders_meta[0][\"name\"], prefix),  add_prefix(builder[\"name\"], prefix)].edge_index = new_edge_index \n",
    "        if builder[\"edge_feats_nbr\"] >0:\n",
    "            data[add_prefix(builder[\"name\"], prefix)].edge_attr_tmp = graph.edge_attr[:, torch.arange(builder[\"offset_edge_feats\"], builder[\"offset_edge_feats\"]+builder[\"edge_feats_nbr\"])]\n",
    "            mask  = data[add_prefix(builder[\"name\"], prefix)].edge_attr_tmp.gt(0).nonzero(as_tuple=True)[0]\n",
    "            masked_attr =  data[add_prefix(builder[\"name\"], prefix)].edge_attr_tmp[mask]    \n",
    "            masked_index =  graph.edge_index[:,mask]\n",
    "            if builder[\"node_feats_nbr\"] >0:         \n",
    "                data[add_prefix(builders_meta[0][\"name\"], prefix),  add_prefix(builder[\"name\"], prefix)].edge_attr = masked_attr \n",
    "                data[add_prefix(builders_meta[0][\"name\"], prefix),  add_prefix(builder[\"name\"], prefix)].edge_index = masked_index \n",
    "            else:\n",
    "                data[add_prefix(builders_meta[0][\"name\"], prefix),  add_prefix(builder[\"name\"], prefix), add_prefix(builders_meta[0][\"name\"], prefix)].edge_attr = masked_attr \n",
    "                data[add_prefix(builders_meta[0][\"name\"], prefix),  add_prefix(builder[\"name\"], prefix), add_prefix(builders_meta[0][\"name\"], prefix)].edge_index = masked_index                 \n",
    "                \n",
    "            data[add_prefix(builder[\"name\"], prefix)].pop(\"edge_attr_tmp\")\n",
    "            if len(data[add_prefix(builder[\"name\"], prefix)].keys()) == 0:\n",
    "                del data[add_prefix(builder[\"name\"], prefix)]    \n",
    "    return data"
   ]
  },
  {
   "cell_type": "code",
   "execution_count": 4,
   "metadata": {},
   "outputs": [
    {
     "name": "stderr",
     "output_type": "stream",
     "text": [
      "Processing...\n",
      "Done!\n",
      "100%|██████████| 4906/4906 [00:16<00:00, 300.55it/s]\n",
      "Processing...\n",
      "Done!\n",
      "100%|██████████| 4439/4439 [00:15<00:00, 291.64it/s]\n"
     ]
    }
   ],
   "source": [
    "from data_set.impl.data_set_sick_hetero import SickHeteroDataset\n",
    "import torch\n",
    "from tqdm import tqdm\n",
    "import torch_geometric.transforms as T\n",
    "\n",
    "def convert_to_hetero(data_set):\n",
    "    sick_hetero = SickHeteroDataset(root=data_set.root.replace(\"sick\", \"sick_hetero\"), transform=data_set.transform, pre_transform=data_set.pre_transform, pre_filter=data_set.pre_filter, type=data_set.type, params=data_set.params, graph_builder=data_set.graph_builder, data_set_processor=data_set.data_set_processor)\n",
    "    for index in tqdm(range(len(data_set))):\n",
    "        src = data_set[index].get_source()\n",
    "        trg = data_set[index].get_target()\n",
    "        data = HeteroData()    \n",
    "        hg = to_hetero_graph(data, src,builders, \"src\")\n",
    "        hg = to_hetero_graph(hg, trg, builders, \"trg\")        \n",
    "        hg = T.ToUndirected()(hg)\n",
    "        torch.save(hg, os.path.join(sick_hetero.processed_dir, f'data_{sick_hetero.type}_{index}.pt'))\n",
    "\n",
    "convert_to_hetero(data_holder.test_data_set)\n",
    "convert_to_hetero(data_holder.train_data_set)\n"
   ]
  },
  {
   "cell_type": "code",
   "execution_count": 5,
   "metadata": {},
   "outputs": [
    {
     "name": "stderr",
     "output_type": "stream",
     "text": [
      "Processing...\n",
      "Done!\n",
      "100%|██████████| 495/495 [00:01<00:00, 275.79it/s]\n"
     ]
    }
   ],
   "source": [
    "convert_to_hetero(data_holder.validation_data_set)"
   ]
  },
  {
   "cell_type": "code",
   "execution_count": null,
   "metadata": {},
   "outputs": [],
   "source": []
  }
 ],
 "metadata": {
  "kernelspec": {
   "display_name": "pygeometric",
   "language": "python",
   "name": "python3"
  },
  "language_info": {
   "codemirror_mode": {
    "name": "ipython",
    "version": 3
   },
   "file_extension": ".py",
   "mimetype": "text/x-python",
   "name": "python",
   "nbconvert_exporter": "python",
   "pygments_lexer": "ipython3",
   "version": "3.9.12"
  }
 },
 "nbformat": 4,
 "nbformat_minor": 2
}
